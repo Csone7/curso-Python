{
  "metadata": {
    "kernelspec": {
      "name": "python",
      "display_name": "Pyolite",
      "language": "python"
    },
    "language_info": {
      "codemirror_mode": {
        "name": "python",
        "version": 3
      },
      "file_extension": ".py",
      "mimetype": "text/x-python",
      "name": "python",
      "nbconvert_exporter": "python",
      "pygments_lexer": "ipython3",
      "version": "3.8"
    },
    "colab": {
      "provenance": []
    }
  },
  "nbformat_minor": 0,
  "nbformat": 4,
  "cells": [
    {
      "cell_type": "markdown",
      "source": [
        "# Escribiendo tu Primer Código en Python\n",
        "\n",
        "\n",
        "## Objetivos\n",
        "\n",
        "Tras completar esta práctica serás capaz de:\n",
        "\n",
        "* Escribir código básico en Python\n",
        "* Trabajar con varios tipos de datos en Python\n",
        "* Convertir los datos de un tipo a otro\n",
        "* Usar expresiones y variables para realizar operaciones\n"
      ],
      "metadata": {
        "id": "ylR0sDLXUrWn"
      }
    },
    {
      "cell_type": "markdown",
      "source": [
        "<h2 id=\"hello\">Di Hola mundo en Python</h2>\n"
      ],
      "metadata": {
        "id": "ubiSxco4UrWt"
      }
    },
    {
      "cell_type": "markdown",
      "source": [
        "Al aprender un nuevo lenguaje de programación, se acostumbra comenzar con un ejemplo de \"hola mundo\". Tan simple como es, esta línea de código asegurará que sepamos cómo imprimir una cadena en la salida y cómo ejecutar el código dentro de las celdas de un Google Collab."
      ],
      "metadata": {
        "id": "pBnYk8DnUrWt"
      }
    },
    {
      "cell_type": "markdown",
      "source": [
        "<hr/>\n",
        "<div class=\"alert alert-success alertsuccess\" style=\"margin-top: 20px\">\n",
        "[Tip]: Para ejecutar el código de Python en la celda de código a continuación, haz clic en la celda para seleccionarla y presiona <kbd>Shift</kbd> + <kbd>Enter</kbd>.\n",
        "</div>\n",
        "<hr/>\n"
      ],
      "metadata": {
        "id": "LzoT6DcGUrWu"
      }
    },
    {
      "cell_type": "code",
      "source": [
        "# Prueba tu primer output de Python\n",
        "\n",
        "print('Hello, Python!')"
      ],
      "metadata": {
        "id": "z1u5sMCcUrWu",
        "colab": {
          "base_uri": "https://localhost:8080/"
        },
        "outputId": "13373c35-8bda-4f29-aa2e-1d69a9b7b562"
      },
      "execution_count": null,
      "outputs": [
        {
          "output_type": "stream",
          "name": "stdout",
          "text": [
            "Hello, Python!\n"
          ]
        }
      ]
    },
    {
      "cell_type": "markdown",
      "source": [
        "Después de ejecutar la celda anterior, debería ver que Python imprime <code>Hello, Python!</code>. "
      ],
      "metadata": {
        "id": "SxVsr0wuUrWv"
      }
    },
    {
      "cell_type": "markdown",
      "source": [
        "<hr/>\n",
        "<div class=\"alert alert-success alertsuccess\" style=\"margin-top: 20px\">\n",
        "    [Tip:] <code>print()</code> es una función. <code>'Hello, Python!'</code> es un String que se le pasa a la función como argumento.\n",
        "</div>\n",
        "<hr/>\n"
      ],
      "metadata": {
        "id": "PBImaVX0UrWw"
      }
    },
    {
      "cell_type": "markdown",
      "source": [
        "<h3 id=\"version\">¿Qué versión de Python estamos usando?</h3>\n"
      ],
      "metadata": {
        "id": "UNjD_ZJbUrWw"
      }
    },
    {
      "cell_type": "markdown",
      "source": [
        "<p>\n",
        "    Hay dos versiones populares del lenguaje de programación Python en uso hoy en día: Python 2 y Python 3. La comunidad de Python ha decidido pasar de Python 2 a Python 3, y muchas bibliotecas populares han anunciado que ya no serán compatibles con Python 2.\n",
        "</p>\n",
        "<p>\n",
        "    Dado que Python 3 es el futuro, en este curso lo usaremos exclusivamente. ¿Cómo sabemos que nuestro cuaderno es ejecutado por un tiempo de ejecución de Python 3? Podemos mirar en la esquina superior derecha de este cuaderno y ver \"Python 3\".\n",
        "</p>\n",
        "<p>\n",
        "  También podemos preguntar directamente a Python y obtener una respuesta detallada. Prueba a ejecutar el siguiente código:\n",
        "</p>\n"
      ],
      "metadata": {
        "id": "9FKqX2d3UrWx"
      }
    },
    {
      "cell_type": "code",
      "source": [
        "# Comprobar la versión de Python\n",
        "\n",
        "import sys\n",
        "print(sys.version)"
      ],
      "metadata": {
        "id": "GQxtnLtgUrWy",
        "colab": {
          "base_uri": "https://localhost:8080/"
        },
        "outputId": "713901c4-a212-498c-d431-af7c3706dce2"
      },
      "execution_count": null,
      "outputs": [
        {
          "output_type": "stream",
          "name": "stdout",
          "text": [
            "3.7.15 (default, Oct 12 2022, 19:14:55) \n",
            "[GCC 7.5.0]\n"
          ]
        }
      ]
    },
    {
      "cell_type": "markdown",
      "source": [
        "<hr/>\n",
        "<div class=\"alert alert-success alertsuccess\" style=\"margin-top: 20px\">\n",
        "    [Tip:] <code>sys</code> es una libería nativa que contiene muchos parámetros y funciones específicos del sistema, incluida la versión de Python en uso. Antes de usarla, debemos importarla.\n",
        "</div>\n",
        "<hr/>\n"
      ],
      "metadata": {
        "id": "B-sijnb1UrWy"
      }
    },
    {
      "cell_type": "markdown",
      "source": [
        "<h3 id=\"comments\">Comentarios</h3>\n"
      ],
      "metadata": {
        "id": "uT-QtmrYUrWz"
      }
    },
    {
      "cell_type": "markdown",
      "source": [
        "<p>\n",
        "    Además de escribir código, tenga en cuenta que siempre es una buena idea agregar comentarios a su código. Ayudará a otros a comprender lo que intentaba lograr (la razón por la que escribió un fragmento de código determinado). Esto no solo ayuda a <strong>otras personas</strong> a comprender su código, sino que también puede servirle como un recordatorio <strong>para usted</strong> cuando vuelva a consultarlo semanas o meses después.</p>\n",
        "\n",
        "<p>\n",
        "    Para escribir comentarios en Python, use el símbolo <code>#</code> antes de escribir su comentario. Cuando ejecuta su código, Python ignorará todo lo que esté más allá del <code>#</code> en una línea determinada.\n",
        "</p>\n"
      ],
      "metadata": {
        "id": "e-f09Ho-UrWz"
      }
    },
    {
      "cell_type": "code",
      "source": [
        "print('Hello, Python!') # Esta línea imprime un String\n",
        "# print('Hola')"
      ],
      "metadata": {
        "id": "QLSdCJINUrW0",
        "colab": {
          "base_uri": "https://localhost:8080/"
        },
        "outputId": "72608568-7111-4771-e475-e852eb155b02"
      },
      "execution_count": null,
      "outputs": [
        {
          "output_type": "stream",
          "name": "stdout",
          "text": [
            "Hello, Python!\n"
          ]
        }
      ]
    },
    {
      "cell_type": "markdown",
      "source": [
        "<p>\n",
        "    Después de ejecutar la celda anterior, debe notar que <code>Esta línea imprime una String</code> no apareció en el output, porque era un comentario (y por lo tanto ignorado por Python).\n",
        "</p>\n",
        "<p>\n",
        "    ¡La segunda línea tampoco se ejecutó porque <code>print('Hola')</code> también estaba precedido por el signo de número (<code>#</code>)! Dado que este no es un comentario explicativo del programador, sino una línea de código real, podríamos decir que el programador <em>comentó</em> esa segunda línea de código.\n",
        "</p>\n"
      ],
      "metadata": {
        "id": "zlv_IANfUrW0"
      }
    },
    {
      "cell_type": "markdown",
      "source": [
        "<h3 id=\"errors\">Errores</h3>\n"
      ],
      "metadata": {
        "id": "x5k2N5_SUrW0"
      }
    },
    {
      "cell_type": "markdown",
      "source": [
        "<p>Todo el mundo comete errores. Para muchos tipos de errores, Python le dirá que ha cometido un error al darle un mensaje de error. Es importante leer los mensajes de error detenidamente para comprender realmente dónde cometió un error y cómo puede corregirlo.</p>\n",
        "<p>Por ejemplo, si escribe <code>print</code> como <code>frint</code>, Python mostrará un mensaje de error. Pruébalo:</p>"
      ],
      "metadata": {
        "id": "xLUYb0VJUrW1"
      }
    },
    {
      "cell_type": "code",
      "source": [
        "# La siguiente línea da un error\n",
        "\n",
        "frint(\"Hello, Python!\")"
      ],
      "metadata": {
        "id": "eLJPvCu2UrW1",
        "colab": {
          "base_uri": "https://localhost:8080/",
          "height": 201
        },
        "outputId": "1a7f5c5e-e5b0-4e2c-dac9-65f07b3671e6"
      },
      "execution_count": null,
      "outputs": [
        {
          "output_type": "error",
          "ename": "NameError",
          "evalue": "ignored",
          "traceback": [
            "\u001b[0;31m---------------------------------------------------------------------------\u001b[0m",
            "\u001b[0;31mNameError\u001b[0m                                 Traceback (most recent call last)",
            "\u001b[0;32m<ipython-input-7-564039a8822b>\u001b[0m in \u001b[0;36m<module>\u001b[0;34m\u001b[0m\n\u001b[1;32m      1\u001b[0m \u001b[0;31m# La siguiente línea da un error\u001b[0m\u001b[0;34m\u001b[0m\u001b[0;34m\u001b[0m\u001b[0;34m\u001b[0m\u001b[0m\n\u001b[1;32m      2\u001b[0m \u001b[0;34m\u001b[0m\u001b[0m\n\u001b[0;32m----> 3\u001b[0;31m \u001b[0mfrint\u001b[0m\u001b[0;34m(\u001b[0m\u001b[0;34m\"Hello, Python!\"\u001b[0m\u001b[0;34m)\u001b[0m\u001b[0;34m\u001b[0m\u001b[0;34m\u001b[0m\u001b[0m\n\u001b[0m",
            "\u001b[0;31mNameError\u001b[0m: name 'frint' is not defined"
          ]
        }
      ]
    },
    {
      "cell_type": "markdown",
      "source": [
        "<p>El mensaje de error te dice:\n",
        "<ol>\n",
        "     <li>dónde ocurrió el error (más útil en celdas de cuaderno grandes o guiones), y</li>\n",
        "     <li>qué tipo de error fue (NameError)</li>\n",
        "</ol>\n",
        "<p>Aquí, Python intentó ejecutar la función <code>frint</code>, pero no pudo determinar qué es <code>frint</code> ya que no es una función integrada y no ha sido definida previamente por nosotros tampoco.</p>"
      ],
      "metadata": {
        "id": "6EeQSX4_UrW1"
      }
    },
    {
      "cell_type": "markdown",
      "source": [
        "<p>\n",
        "     Notará que si cometemos un tipo diferente de error, al olvidar cerrar la cadena, obtendremos un error diferente (es decir, un <code>SyntaxError</code>). Pruébalo a continuación:\n",
        "</p>"
      ],
      "metadata": {
        "id": "NyKw20rQUrW2"
      }
    },
    {
      "cell_type": "code",
      "source": [
        "print(\"\"\"Hello, Python!\"\"\""
      ],
      "metadata": {
        "id": "Ry_sj-IBUrW2",
        "colab": {
          "base_uri": "https://localhost:8080/",
          "height": 131
        },
        "outputId": "ed846494-7bb2-4ce7-ff0a-86011219a66e"
      },
      "execution_count": null,
      "outputs": [
        {
          "output_type": "error",
          "ename": "SyntaxError",
          "evalue": "ignored",
          "traceback": [
            "\u001b[0;36m  File \u001b[0;32m\"<ipython-input-10-9e675d2ee565>\"\u001b[0;36m, line \u001b[0;32m1\u001b[0m\n\u001b[0;31m    print(\"\"\"Hello, Python!\"\"\"\u001b[0m\n\u001b[0m                              ^\u001b[0m\n\u001b[0;31mSyntaxError\u001b[0m\u001b[0;31m:\u001b[0m unexpected EOF while parsing\n"
          ]
        }
      ]
    },
    {
      "cell_type": "markdown",
      "source": [
        "<h3 id=\"python_error\">¿Python sabe acerca de su error antes de ejecutar su código?</h3>\n"
      ],
      "metadata": {
        "id": "yFPfxmv5UrW3"
      }
    },
    {
      "cell_type": "markdown",
      "source": [
        "Python es lo que se llama un <em>lenguaje interpretado</em>. Los lenguajes compilados examinan todo su programa en el momento de la compilación y pueden advertirle sobre toda una clase de errores antes de la ejecución. Por el contrario, Python interpreta su script línea por línea a medida que lo ejecuta. Python dejará de ejecutar todo el programa cuando encuentre un error (a menos que el programador espere y maneje el error, un tema más avanzado que trataremos más adelante en este curso)."
      ],
      "metadata": {
        "id": "6og2Av7OUrW3"
      }
    },
    {
      "cell_type": "markdown",
      "source": [
        "Prueba a ejecutar el código de la celda de abajo y mira qué pasa:\n"
      ],
      "metadata": {
        "id": "YVxdvZ1mUrW4"
      }
    },
    {
      "cell_type": "code",
      "source": [
        "# Imprime el primer string y la segunda línea da error\n",
        "\n",
        "print(\"This will be printed\")\n",
        "frint(\"This will cause an error\")\n",
        "print(\"This will NOT be printed\")"
      ],
      "metadata": {
        "id": "w1m9wKmRUrW5",
        "colab": {
          "base_uri": "https://localhost:8080/",
          "height": 235
        },
        "outputId": "c04778bd-4753-4314-d0c8-1e4da5f4c6cd"
      },
      "execution_count": null,
      "outputs": [
        {
          "output_type": "stream",
          "name": "stdout",
          "text": [
            "This will be printed\n"
          ]
        },
        {
          "output_type": "error",
          "ename": "NameError",
          "evalue": "ignored",
          "traceback": [
            "\u001b[0;31m---------------------------------------------------------------------------\u001b[0m",
            "\u001b[0;31mNameError\u001b[0m                                 Traceback (most recent call last)",
            "\u001b[0;32m<ipython-input-11-37bbfdb5d12a>\u001b[0m in \u001b[0;36m<module>\u001b[0;34m\u001b[0m\n\u001b[1;32m      2\u001b[0m \u001b[0;34m\u001b[0m\u001b[0m\n\u001b[1;32m      3\u001b[0m \u001b[0mprint\u001b[0m\u001b[0;34m(\u001b[0m\u001b[0;34m\"This will be printed\"\u001b[0m\u001b[0;34m)\u001b[0m\u001b[0;34m\u001b[0m\u001b[0;34m\u001b[0m\u001b[0m\n\u001b[0;32m----> 4\u001b[0;31m \u001b[0mfrint\u001b[0m\u001b[0;34m(\u001b[0m\u001b[0;34m\"This will cause an error\"\u001b[0m\u001b[0;34m)\u001b[0m\u001b[0;34m\u001b[0m\u001b[0;34m\u001b[0m\u001b[0m\n\u001b[0m\u001b[1;32m      5\u001b[0m \u001b[0mprint\u001b[0m\u001b[0;34m(\u001b[0m\u001b[0;34m\"This will NOT be printed\"\u001b[0m\u001b[0;34m)\u001b[0m\u001b[0;34m\u001b[0m\u001b[0;34m\u001b[0m\u001b[0m\n",
            "\u001b[0;31mNameError\u001b[0m: name 'frint' is not defined"
          ]
        }
      ]
    },
    {
      "cell_type": "markdown",
      "metadata": {
        "id": "--7HLwwMIi5w"
      },
      "source": [
        "## Definición de bloques"
      ]
    },
    {
      "cell_type": "markdown",
      "metadata": {
        "id": "4IinWbEIIi5y"
      },
      "source": [
        "A diferencia de otros lenguajes que utilizan llaves para definir los bloques de código, cuando Guido Van Rossum creó el lenguaje quiso evitar estos elementos. Es por ello que en Python los bloques de código se definen a través de **espacios en blanco** (preferiblemente 4, ver [PEP8](https://www.python.org/dev/peps/pep-0008/#indentation)).\n",
        "\n",
        "![four-spaces.png](data:image/png;base64,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)\n",
        "\n",
        "> Esto puede resultar extraño e incómodo a personas que vienen de otros lenguajes de programación pero desaparece rápido y se siente natural a medida que se escribe código."
      ]
    },
    {
      "cell_type": "markdown",
      "source": [
        "<h3 id=\"exercise\">Ejercicio: Tu Primer Programa</h3>\n"
      ],
      "metadata": {
        "id": "o0f3-tmhUrW9"
      }
    },
    {
      "cell_type": "markdown",
      "source": [
        "<p>Generaciones de programadores han comenzado sus carreras de codificación simplemente escribiendo \"¡Hola, mundo!\". Vas a seguir sus pasos.</p>\n",
        "<p>En la celda de código a continuación, usa la función <code>print()</code> para imprimir la frase: <code>¡Hola, mundo!</code></p>\n"
      ],
      "metadata": {
        "id": "eYXhf8t2UrW_"
      }
    },
    {
      "cell_type": "code",
      "source": [
        "# Escribe tu código debajo. No te olvides de pulsar Shift+Enter para ejecutar la celda\n",
        "print(\"Holaaaa\")\n",
        "\n",
        "valor = \"Hey\"\n",
        "print(valor)"
      ],
      "metadata": {
        "id": "5oHOpHDGUrXD",
        "colab": {
          "base_uri": "https://localhost:8080/"
        },
        "outputId": "3bd643df-3a20-4a0e-e39f-3b0da76b88cb"
      },
      "execution_count": null,
      "outputs": [
        {
          "output_type": "stream",
          "name": "stdout",
          "text": [
            "Holaaaa\n",
            "Hey\n"
          ]
        }
      ]
    },
    {
      "cell_type": "markdown",
      "source": [
        "<details><summary>Pulsa aquí para ver la solución</summary>\n",
        "\n",
        "```python\n",
        "print(\"¡Hola, mundo!\")\n",
        "\n",
        "```\n",
        "\n",
        "</details>\n"
      ],
      "metadata": {
        "id": "vfqVpmD3UrXD"
      }
    },
    {
      "cell_type": "markdown",
      "source": [
        "<p>Ahora, vamos a mejorar tu código con un comentario. En la celda de código a continuación, imprime la frase: <code>¡Hola, mundo!</code> y coméntala con la frase <code>Imprime el tradicional hola mundo</code> todo en una línea de código.</p>\n"
      ],
      "metadata": {
        "id": "zdEXd5ynUrXF"
      }
    },
    {
      "cell_type": "code",
      "source": [
        "# Escribe tu código debajo. No te olvides de pulsar Shift+Enter para ejecutar la celda\n"
      ],
      "metadata": {
        "id": "f-3u0AeuUrXF"
      },
      "execution_count": null,
      "outputs": []
    },
    {
      "cell_type": "markdown",
      "source": [
        "<details><summary>Pulsa aquí para ver la solución</summary>\n",
        "\n",
        "```python\n",
        "print(\"¡Hola, mundo!\") # Imprime el tradicional hola mundo\n",
        "\n",
        "```\n",
        "\n",
        "</details>\n"
      ],
      "metadata": {
        "id": "O8Is4gjtUrXF"
      }
    },
    {
      "cell_type": "markdown",
      "source": [
        "<hr>\n"
      ],
      "metadata": {
        "id": "OhXK-fNiUrXG"
      }
    },
    {
      "cell_type": "markdown",
      "source": [
        "<h2 id=\"types_objects\" align=\"center\">Tipos de objetos en Python</h2>\n"
      ],
      "metadata": {
        "id": "HZ7eo0teUrXG"
      }
    },
    {
      "cell_type": "markdown",
      "source": [
        "<p>Hay muchos tipos diferentes de objetos en Python. Comencemos con los tipos de objetos más comunes: string, ints y float. Cada vez que escribe palabras (texto) en Python, está utilizando cadenas de caracteres (string). Los números más comunes, por otro lado, son los enteros (por ejemplo, -1, 0, 100) y los flotantes, que representan números reales (por ejemplo, 3.14, -42.0).</p>\n"
      ],
      "metadata": {
        "id": "7zYHBl-BUrXG"
      }
    },
    {
      "cell_type": "markdown",
      "source": [
        "<a align=\"center\">\n",
        "    <img src=\"https://drive.google.com/uc?id=1E5Ql9Ee2xK_1dxgeIuGeov7ikNo3I92b&export=download\" width=\"600\">\n",
        "</a>\n"
      ],
      "metadata": {
        "id": "1ultP-Hi6pwz"
      }
    },
    {
      "cell_type": "markdown",
      "metadata": {
        "id": "GqFMGUHVXEIL"
      },
      "source": [
        "Nombre | Tipo | Mutable | Ejemplos\n",
        "--- | --- | --- | ---\n",
        "Booleano | `bool` | ❌ | `True, False`\n",
        "Entero | `int` | ❌ | `21, 34500, 34_500`\n",
        "Flotante | `float` | ❌ | `3.14, 1.5e3`\n",
        "Complejo | `complex` | ❌ | `2j, 3 + 5j`\n",
        "Cadena | `str` | ❌ | `'tfn', \"tenerife\", '''tenerife - islas canarias'''`\n",
        "Tupla | `tuple` | ❌ | `(1, 3, 5)`\n",
        "Lista | `list` | ✅ | `['Chrome', 'Firefox']`\n",
        "Conjunto | `set` | ✅ | `set([2, 4, 6])`\n",
        "Diccionario | `dict` | ✅ | `{'Chrome': 'v79', 'Firefox': 'v71'}`\n",
        "\n",
        "[Tipos de datos en Python - Documentación oficial](https://docs.python.org/3/library/stdtypes.html)"
      ]
    },
    {
      "cell_type": "markdown",
      "source": [
        "<p>Las siguientes casillas contienen algunos ejemplos..</p>\n"
      ],
      "metadata": {
        "id": "JFdCDXU7UrXH"
      }
    },
    {
      "cell_type": "code",
      "source": [
        "# Enteros\n",
        "\n",
        "11"
      ],
      "metadata": {
        "id": "xz2ty50mUrXI",
        "colab": {
          "base_uri": "https://localhost:8080/"
        },
        "outputId": "7952e2ad-c842-48fb-f896-216aea7875ff"
      },
      "execution_count": null,
      "outputs": [
        {
          "output_type": "execute_result",
          "data": {
            "text/plain": [
              "11"
            ]
          },
          "metadata": {},
          "execution_count": 10
        }
      ]
    },
    {
      "cell_type": "code",
      "source": [
        "# Flotantes\n",
        "\n",
        "2.14"
      ],
      "metadata": {
        "id": "ZE5TCgXQUrXI",
        "colab": {
          "base_uri": "https://localhost:8080/"
        },
        "outputId": "dc46dd70-ebbb-4d7d-8f5d-e7145e71f12c"
      },
      "execution_count": null,
      "outputs": [
        {
          "output_type": "execute_result",
          "data": {
            "text/plain": [
              "2.14"
            ]
          },
          "metadata": {},
          "execution_count": 11
        }
      ]
    },
    {
      "cell_type": "code",
      "source": [
        "# Texto\n",
        "\n",
        "\"¡Hola, Python 101!\""
      ],
      "metadata": {
        "id": "p7WrPdIxUrXI",
        "colab": {
          "base_uri": "https://localhost:8080/",
          "height": 36
        },
        "outputId": "430bf5d3-e384-4f9f-d920-af666c773ec4"
      },
      "execution_count": null,
      "outputs": [
        {
          "output_type": "execute_result",
          "data": {
            "text/plain": [
              "'¡Hola, Python 101!'"
            ],
            "application/vnd.google.colaboratory.intrinsic+json": {
              "type": "string"
            }
          },
          "metadata": {},
          "execution_count": 12
        }
      ]
    },
    {
      "cell_type": "markdown",
      "source": [
        "<p>Puede hacer que Python le diga el tipo de una expresión usando la función<code>type()</code>. Notarás que Python se refiere a los números enteros como <code>int</code>, números con decimales a <code>float</code>, y el texto a <code>str</code>.</p>\n"
      ],
      "metadata": {
        "id": "e3ICRPYZUrXJ"
      }
    },
    {
      "cell_type": "code",
      "source": [
        "# Tipo de 12\n",
        "\n",
        "type(12)"
      ],
      "metadata": {
        "id": "JdTb4-HmUrXJ",
        "colab": {
          "base_uri": "https://localhost:8080/"
        },
        "outputId": "c2261b37-c232-436a-e5d6-573869418d3d"
      },
      "execution_count": null,
      "outputs": [
        {
          "output_type": "execute_result",
          "data": {
            "text/plain": [
              "int"
            ]
          },
          "metadata": {},
          "execution_count": 14
        }
      ]
    },
    {
      "cell_type": "code",
      "source": [
        "# Tipo de 2.14\n",
        "\n",
        "type(2.14)"
      ],
      "metadata": {
        "id": "cVtCKgeMUrXJ",
        "colab": {
          "base_uri": "https://localhost:8080/"
        },
        "outputId": "5d8a38c8-d4c4-45de-d248-a1109c4ded60"
      },
      "execution_count": null,
      "outputs": [
        {
          "output_type": "execute_result",
          "data": {
            "text/plain": [
              "float"
            ]
          },
          "metadata": {},
          "execution_count": 15
        }
      ]
    },
    {
      "cell_type": "code",
      "source": [
        "# Tipo de \"Hola Mundo!\"\n",
        "\n",
        "type(\"Hola Mundo!\")"
      ],
      "metadata": {
        "id": "4IcKPQhMUrXJ",
        "colab": {
          "base_uri": "https://localhost:8080/"
        },
        "outputId": "a6ed946f-39ed-499c-f396-1ee164c0034a"
      },
      "execution_count": null,
      "outputs": [
        {
          "output_type": "execute_result",
          "data": {
            "text/plain": [
              "str"
            ]
          },
          "metadata": {},
          "execution_count": 16
        }
      ]
    },
    {
      "cell_type": "markdown",
      "source": [
        "<p>En la siguiente casilla, usa la función <code>type()</code> para comprobar el tipo del objeto <code>12.0</code>.\n"
      ],
      "metadata": {
        "id": "yMT08jEHUrXK"
      }
    },
    {
      "cell_type": "code",
      "source": [
        "# Escriba tu código a continuación. No olvides presionar Shift+Enter para ejecutar la celda\n",
        "type (12.0)"
      ],
      "metadata": {
        "id": "smcetAklUrXK",
        "colab": {
          "base_uri": "https://localhost:8080/"
        },
        "outputId": "a2f232a2-0416-4222-a5d8-28365402439b"
      },
      "execution_count": null,
      "outputs": [
        {
          "output_type": "execute_result",
          "data": {
            "text/plain": [
              "float"
            ]
          },
          "metadata": {},
          "execution_count": 16
        }
      ]
    },
    {
      "cell_type": "markdown",
      "source": [
        "<h3 id=\"int\">Enteros</h3>\n"
      ],
      "metadata": {
        "id": "Ubyw6HBlUrXK"
      }
    },
    {
      "cell_type": "markdown",
      "source": [
        "<p>Estos son algunos ejemplos de números enteros. Los números enteros pueden ser números negativos o positivos:</p>\n"
      ],
      "metadata": {
        "id": "knWVRb4NUrXL"
      }
    },
    {
      "cell_type": "markdown",
      "source": [
        "<a align=\"center\">\n",
        "    <img src=\"https://drive.google.com/uc?id=10BI1FW8XZNF60xwEyOlV0fJMYl7DzClc&export=download\" width=\"600\">\n",
        "</a>\n"
      ],
      "metadata": {
        "id": "zm2V1dO9UrXL"
      }
    },
    {
      "cell_type": "markdown",
      "source": [
        "<p>Podemos comprobarlo una vez más con la función <code>type()</code>:\n"
      ],
      "metadata": {
        "id": "kS0D_tiKUrXL"
      }
    },
    {
      "cell_type": "code",
      "source": [
        "# Imprime el tipo de -1\n",
        "\n",
        "type(-1)"
      ],
      "metadata": {
        "id": "-8oKSg-_UrXL",
        "colab": {
          "base_uri": "https://localhost:8080/"
        },
        "outputId": "9c13d573-bc2b-48fd-bb1d-8539a56b0909"
      },
      "execution_count": null,
      "outputs": [
        {
          "output_type": "execute_result",
          "data": {
            "text/plain": [
              "int"
            ]
          },
          "metadata": {},
          "execution_count": 17
        }
      ]
    },
    {
      "cell_type": "code",
      "source": [
        "# Imprime el tipo de 4\n",
        "\n",
        "type(4)"
      ],
      "metadata": {
        "id": "fAKqi5iwUrXL",
        "colab": {
          "base_uri": "https://localhost:8080/"
        },
        "outputId": "7cfe2fad-bbf0-4ffc-f01e-9b90a715c9d7"
      },
      "execution_count": null,
      "outputs": [
        {
          "output_type": "execute_result",
          "data": {
            "text/plain": [
              "int"
            ]
          },
          "metadata": {},
          "execution_count": 17
        }
      ]
    },
    {
      "cell_type": "code",
      "source": [
        "# Imprime el tipo de 0\n",
        "\n",
        "type(0)"
      ],
      "metadata": {
        "id": "rBUBFcL4UrXM",
        "colab": {
          "base_uri": "https://localhost:8080/"
        },
        "outputId": "12d98b9f-485a-412b-dd13-38efe15dc1c6"
      },
      "execution_count": null,
      "outputs": [
        {
          "output_type": "execute_result",
          "data": {
            "text/plain": [
              "int"
            ]
          },
          "metadata": {},
          "execution_count": 18
        }
      ]
    },
    {
      "cell_type": "markdown",
      "source": [
        "<h3 id=\"float\">Números flotantes</h3> \n"
      ],
      "metadata": {
        "id": "u9GWu4lgUrXM"
      }
    },
    {
      "cell_type": "markdown",
      "source": [
        "<p>Los flotantes representan números reales; son un superconjunto de números enteros pero también incluyen números con decimales.</p>\n"
      ],
      "metadata": {
        "id": "XDpvd5yXUrXM"
      }
    },
    {
      "cell_type": "code",
      "source": [
        "# Imprime el tipo de 1.0\n",
        "\n",
        "type(1.0) # Observa que 1 es un int y 1.0 es un float"
      ],
      "metadata": {
        "id": "wDW3LVylUrXM"
      },
      "execution_count": null,
      "outputs": []
    },
    {
      "cell_type": "code",
      "source": [
        "# Imprime el tipo de 0.5\n",
        "\n",
        "type(0.5)"
      ],
      "metadata": {
        "id": "WIxs2UPrUrXN",
        "colab": {
          "base_uri": "https://localhost:8080/"
        },
        "outputId": "77ea07a1-fc36-4e8e-b2dd-5ff8e9b50171"
      },
      "execution_count": null,
      "outputs": [
        {
          "output_type": "execute_result",
          "data": {
            "text/plain": [
              "float"
            ]
          },
          "metadata": {},
          "execution_count": 19
        }
      ]
    },
    {
      "cell_type": "code",
      "source": [
        "# Imprime el tipo de 0.56\n",
        "\n",
        "type(0.56)"
      ],
      "metadata": {
        "id": "uPo6Rs_7UrXN",
        "colab": {
          "base_uri": "https://localhost:8080/"
        },
        "outputId": "a8923711-baae-4bf1-8fbd-5098d69a4fb2"
      },
      "execution_count": null,
      "outputs": [
        {
          "output_type": "execute_result",
          "data": {
            "text/plain": [
              "float"
            ]
          },
          "metadata": {},
          "execution_count": 20
        }
      ]
    },
    {
      "cell_type": "markdown",
      "source": [
        "<h3 id=\"convert\">Conversión de un tipo de objeto a otro diferente</h3>\n"
      ],
      "metadata": {
        "id": "smfLOGBNUrXN"
      }
    },
    {
      "cell_type": "markdown",
      "source": [
        "<p>Puedes cambiar el tipo del objeto en Python; esto se llama typecasting. Por ejemplo, puedes convertir un <i>integer</i> en un <i>float</i> (ej. 2 a 2.0).</p>\n",
        "<p>Vamos a probarlo:</p>\n"
      ],
      "metadata": {
        "id": "LXC5PEUaUrXO"
      }
    },
    {
      "cell_type": "code",
      "source": [
        "# Verifica que es un número entero\n",
        "\n",
        "type(2.0)"
      ],
      "metadata": {
        "id": "bzA0Mae2UrXO",
        "colab": {
          "base_uri": "https://localhost:8080/"
        },
        "outputId": "a71bafaa-b750-4095-fae9-0977ad65c38b"
      },
      "execution_count": null,
      "outputs": [
        {
          "output_type": "execute_result",
          "data": {
            "text/plain": [
              "float"
            ]
          },
          "metadata": {},
          "execution_count": 22
        }
      ]
    },
    {
      "cell_type": "markdown",
      "source": [
        "<h4>Casting de números enteros a flotantes</h4>\n",
        "<p>Convirtamos el entero 2 en flotante:</p>"
      ],
      "metadata": {
        "id": "XxvyqloMUrXO"
      }
    },
    {
      "cell_type": "code",
      "source": [
        "float(2)"
      ],
      "metadata": {
        "id": "DqAob-FqUrXP",
        "colab": {
          "base_uri": "https://localhost:8080/"
        },
        "outputId": "98335ffb-74d1-45dc-b655-39862708dfbc"
      },
      "execution_count": null,
      "outputs": [
        {
          "output_type": "execute_result",
          "data": {
            "text/plain": [
              "2.0"
            ]
          },
          "metadata": {},
          "execution_count": 18
        }
      ]
    },
    {
      "cell_type": "code",
      "source": [
        "# Convierte el entero 2 en un flotante y comprueba su tipo\n",
        "\n",
        "type(float(2.0))"
      ],
      "metadata": {
        "id": "kmW7E9kCUrXP",
        "colab": {
          "base_uri": "https://localhost:8080/"
        },
        "outputId": "32aae077-f504-4f81-dcb8-6d9bff691986"
      },
      "execution_count": null,
      "outputs": [
        {
          "output_type": "execute_result",
          "data": {
            "text/plain": [
              "float"
            ]
          },
          "metadata": {},
          "execution_count": 23
        }
      ]
    },
    {
      "cell_type": "markdown",
      "source": [
        "<p>Cuando convertimos un número entero en flotante, en realidad no cambiamos el valor (es decir, el significado) del número. Sin embargo, si convertimos un flotante en un entero, potencialmente podríamos perder algo de información. Por ejemplo, si convertimos el flotante 1.1 en entero, obtendremos 1 y perderemos la información decimal (es decir, 0.1):</p>"
      ],
      "metadata": {
        "id": "sGhK1K9SUrXQ"
      }
    },
    {
      "cell_type": "code",
      "source": [
        "# La conversión de 1.1 a entero resultará en la pérdida de información\n",
        "\n",
        "int(1)"
      ],
      "metadata": {
        "id": "fF2A_MFwUrXQ",
        "colab": {
          "base_uri": "https://localhost:8080/"
        },
        "outputId": "f8c2e816-fa24-45c7-d35f-259249a28da5"
      },
      "execution_count": null,
      "outputs": [
        {
          "output_type": "execute_result",
          "data": {
            "text/plain": [
              "1"
            ]
          },
          "metadata": {},
          "execution_count": 24
        }
      ]
    },
    {
      "cell_type": "markdown",
      "source": [
        "<h4>Conversión de cadenas a números enteros o flotantes</h4>"
      ],
      "metadata": {
        "id": "jszCEzkcUrXR"
      }
    },
    {
      "cell_type": "markdown",
      "source": [
        "<p>A veces, podemos tener una cadena que contiene un número dentro de ella. Si este es el caso, podemos convertir esa cadena que representa un número en un número entero usando <code>int()</code>:</p>\n"
      ],
      "metadata": {
        "id": "1Olwjyz5UrXR"
      }
    },
    {
      "cell_type": "code",
      "source": [
        "# Convierte una cadena en un número entero\n",
        "\n",
        "int('1')"
      ],
      "metadata": {
        "id": "MUU42nD8UrXR",
        "colab": {
          "base_uri": "https://localhost:8080/"
        },
        "outputId": "6b51ec0d-f987-4147-ffea-3385c3a112b3"
      },
      "execution_count": null,
      "outputs": [
        {
          "output_type": "execute_result",
          "data": {
            "text/plain": [
              "1"
            ]
          },
          "metadata": {},
          "execution_count": 20
        }
      ]
    },
    {
      "cell_type": "markdown",
      "source": [
        "<p>Pero si intentas hacerlo con una cadena que no coincide perfectamente con un número, te aparecerá un error. Prueba lo siguiente:</p>\n"
      ],
      "metadata": {
        "id": "C45fUWt9UrXR"
      }
    },
    {
      "cell_type": "code",
      "source": [
        "# Convierte una cadena en un entero de manera errónea\n",
        "\n",
        "int('1 or 2 people')"
      ],
      "metadata": {
        "id": "FoZRmi4oUrXR",
        "colab": {
          "base_uri": "https://localhost:8080/",
          "height": 201
        },
        "outputId": "51de451f-81fa-4b62-8ea8-760b54764db0"
      },
      "execution_count": null,
      "outputs": [
        {
          "output_type": "error",
          "ename": "ValueError",
          "evalue": "ignored",
          "traceback": [
            "\u001b[0;31m---------------------------------------------------------------------------\u001b[0m",
            "\u001b[0;31mValueError\u001b[0m                                Traceback (most recent call last)",
            "\u001b[0;32m<ipython-input-25-b96e914cb969>\u001b[0m in \u001b[0;36m<module>\u001b[0;34m\u001b[0m\n\u001b[1;32m      1\u001b[0m \u001b[0;31m# Convierte una cadena en un entero de manera errónea\u001b[0m\u001b[0;34m\u001b[0m\u001b[0;34m\u001b[0m\u001b[0;34m\u001b[0m\u001b[0m\n\u001b[1;32m      2\u001b[0m \u001b[0;34m\u001b[0m\u001b[0m\n\u001b[0;32m----> 3\u001b[0;31m \u001b[0mint\u001b[0m\u001b[0;34m(\u001b[0m\u001b[0;34m'1 or 2 people'\u001b[0m\u001b[0;34m)\u001b[0m\u001b[0;34m\u001b[0m\u001b[0;34m\u001b[0m\u001b[0m\n\u001b[0m",
            "\u001b[0;31mValueError\u001b[0m: invalid literal for int() with base 10: '1 or 2 people'"
          ]
        }
      ]
    },
    {
      "cell_type": "markdown",
      "source": [
        "<p>También puedes convertir cadenas que contengan números flotantes en objetos <i>float</i>:</p>\n"
      ],
      "metadata": {
        "id": "4uIxr9RhUrXS"
      }
    },
    {
      "cell_type": "code",
      "source": [
        "# Convierte la cadena \"1.2\" en un número flotante\n",
        "\n",
        "float('1.2')"
      ],
      "metadata": {
        "id": "Xi7GgU92UrXS",
        "colab": {
          "base_uri": "https://localhost:8080/"
        },
        "outputId": "b7772346-1b5c-4fca-93b9-ad30f317273a"
      },
      "execution_count": null,
      "outputs": [
        {
          "output_type": "execute_result",
          "data": {
            "text/plain": [
              "1.2"
            ]
          },
          "metadata": {},
          "execution_count": 27
        }
      ]
    },
    {
      "cell_type": "markdown",
      "source": [
        "<hr/>\n",
        "<div class=\"alert alert-success alertsuccess\" style=\"margin-top: 20px\">\n",
        "    [Tip:] Ten en cuenta que las cadenas se pueden escribir con comillas simples (<code>'1.2'</code>) o dobles (<code>\"1.2\"</code>), pero no puedes mezclarlas (e.g., <code>\"1.2'</code>).\n",
        "</div>\n",
        "<hr/>\n"
      ],
      "metadata": {
        "id": "Ollhyb4CUrXS"
      }
    },
    {
      "cell_type": "markdown",
      "source": [
        "<h4>Conversión de números a cadenas</h4>\n"
      ],
      "metadata": {
        "id": "ebnMOqmuUrXS"
      }
    },
    {
      "cell_type": "markdown",
      "source": [
        "<p>Si podemos convertir cadenas en números, es natural asumir que podemos convertir números en cadenas, ¿no?</p>\n"
      ],
      "metadata": {
        "id": "k6ZUHNsjUrXS"
      }
    },
    {
      "cell_type": "code",
      "source": [
        "# Convierte un número entero en una cadena\n",
        "\n",
        "str(1)\n"
      ],
      "metadata": {
        "id": "cR93xWoXUrXT",
        "colab": {
          "base_uri": "https://localhost:8080/",
          "height": 36
        },
        "outputId": "999aad4f-da33-4ad9-c03e-92a7aaa9ead1"
      },
      "execution_count": null,
      "outputs": [
        {
          "output_type": "execute_result",
          "data": {
            "text/plain": [
              "'1'"
            ],
            "application/vnd.google.colaboratory.intrinsic+json": {
              "type": "string"
            }
          },
          "metadata": {},
          "execution_count": 22
        }
      ]
    },
    {
      "cell_type": "markdown",
      "source": [
        "<p>Y no hay razón por la cual no podamos convertir números flotantes en cadenas también:</p> \n"
      ],
      "metadata": {
        "id": "gQYBp54sUrXT"
      }
    },
    {
      "cell_type": "code",
      "source": [
        "# Convierte un número flotante en una cadena\n",
        "\n",
        "str(1.2)"
      ],
      "metadata": {
        "id": "El8zytWwUrXT"
      },
      "execution_count": null,
      "outputs": []
    },
    {
      "cell_type": "markdown",
      "source": [
        "<h3 id=\"bool\">Dato de tipo booleano</h3>\n"
      ],
      "metadata": {
        "id": "XbUum_0wUrXT"
      }
    },
    {
      "cell_type": "markdown",
      "source": [
        "<p>El <i>Booleano</i> es otro tipo importante en Python. Un objeto de tipo <i>Booleano</i> puede tomar uno de dos valores: <code>Verdadero</code> o <code>Falso</code>:</p>\n"
      ],
      "metadata": {
        "id": "53YWdiRHUrXT"
      }
    },
    {
      "cell_type": "code",
      "source": [
        "# Valor verdadero\n",
        "\n",
        "True"
      ],
      "metadata": {
        "id": "IMmKu5jqUrXT",
        "colab": {
          "base_uri": "https://localhost:8080/"
        },
        "outputId": "fdd8edb3-52d0-44d5-fa5a-3891156f5777"
      },
      "execution_count": null,
      "outputs": [
        {
          "output_type": "execute_result",
          "data": {
            "text/plain": [
              "True"
            ]
          },
          "metadata": {},
          "execution_count": 23
        }
      ]
    },
    {
      "cell_type": "markdown",
      "source": [
        "<p>Observa que el valor <code>True</code> tiene una \"T\" mayúscula. Lo mismo para <code>False</code> (es decir, debes usar la \"F\" mayúscula).</p>\n"
      ],
      "metadata": {
        "id": "LFPRzg4bUrXU"
      }
    },
    {
      "cell_type": "code",
      "source": [
        "# Valor falso\n",
        "\n",
        "False"
      ],
      "metadata": {
        "id": "5d1fxeUvUrXU"
      },
      "execution_count": null,
      "outputs": []
    },
    {
      "cell_type": "markdown",
      "source": [
        "<p>Cuando le pides a Python que muestre el tipo de un objeto booleano, mostrará <code>bool</code> que significa <i>booleano</i>:</p> \n"
      ],
      "metadata": {
        "id": "SSyCB7i9UrXU"
      }
    },
    {
      "cell_type": "code",
      "source": [
        "# Tipo de True\n",
        "\n",
        "type(True)"
      ],
      "metadata": {
        "id": "ZZpAPr0hUrXU",
        "colab": {
          "base_uri": "https://localhost:8080/"
        },
        "outputId": "729a18f7-346c-4b39-f5c7-4fea60ab8f9a"
      },
      "execution_count": null,
      "outputs": [
        {
          "output_type": "execute_result",
          "data": {
            "text/plain": [
              "bool"
            ]
          },
          "metadata": {},
          "execution_count": 24
        }
      ]
    },
    {
      "cell_type": "code",
      "source": [
        "# Tipo de False\n",
        "\n",
        "type(False)"
      ],
      "metadata": {
        "id": "XUs30CaHUrXU",
        "colab": {
          "base_uri": "https://localhost:8080/"
        },
        "outputId": "9a94cfdc-43c7-4407-ef44-c1e116cb868e"
      },
      "execution_count": null,
      "outputs": [
        {
          "output_type": "execute_result",
          "data": {
            "text/plain": [
              "bool"
            ]
          },
          "metadata": {},
          "execution_count": 38
        }
      ]
    },
    {
      "cell_type": "markdown",
      "source": [
        "<p>Podemos convertir objetos booleanos a otros tipos de datos. Si convertimos un booleano con el valor <code>True</code> en un número entero o flotante, obtendremos un uno. Si convertimos un booleano con el valor <code>False</code> en un número entero o flotante, obtendremos un cero. Igualemnte, si convertimos un 1 en un booleano, obtienes un <code>True</code>. Y si convertimos un 0 en un booleano obtendremos un <code>False</code>. Vamos a intentarlo:</p> \n"
      ],
      "metadata": {
        "id": "G5Hy2711UrXU"
      }
    },
    {
      "cell_type": "code",
      "source": [
        "# Convierte un True en un entero\n",
        "\n",
        "int(True)\n"
      ],
      "metadata": {
        "id": "ZiUtmr5UUrXU",
        "colab": {
          "base_uri": "https://localhost:8080/"
        },
        "outputId": "56ebeb90-018e-4dde-885d-6489e0ed406f"
      },
      "execution_count": null,
      "outputs": [
        {
          "output_type": "execute_result",
          "data": {
            "text/plain": [
              "1"
            ]
          },
          "metadata": {},
          "execution_count": 28
        }
      ]
    },
    {
      "cell_type": "code",
      "source": [
        "# Convierte un 1 en un booleano\n",
        "\n",
        "bool(1)"
      ],
      "metadata": {
        "id": "GTghxZ56UrXV",
        "colab": {
          "base_uri": "https://localhost:8080/"
        },
        "outputId": "ac7cfee1-f61d-4f0b-f2fa-323ff8b6a140"
      },
      "execution_count": null,
      "outputs": [
        {
          "output_type": "execute_result",
          "data": {
            "text/plain": [
              "True"
            ]
          },
          "metadata": {},
          "execution_count": 29
        }
      ]
    },
    {
      "cell_type": "code",
      "source": [
        "# Convierte un 0 en un booleano\n",
        "\n",
        "bool(0)"
      ],
      "metadata": {
        "id": "JqNfINFqUrXV",
        "colab": {
          "base_uri": "https://localhost:8080/"
        },
        "outputId": "da2296c4-f296-4340-f941-872b6f05e2dd"
      },
      "execution_count": null,
      "outputs": [
        {
          "output_type": "execute_result",
          "data": {
            "text/plain": [
              "False"
            ]
          },
          "metadata": {},
          "execution_count": 30
        }
      ]
    },
    {
      "cell_type": "code",
      "source": [
        "# Convierte un True en un número flotante\n",
        "\n",
        "float(True)"
      ],
      "metadata": {
        "id": "dGrYo-zzUrXV",
        "colab": {
          "base_uri": "https://localhost:8080/"
        },
        "outputId": "c08ca60d-f896-47d0-c746-4bdba7b320b6"
      },
      "execution_count": null,
      "outputs": [
        {
          "output_type": "execute_result",
          "data": {
            "text/plain": [
              "1.0"
            ]
          },
          "metadata": {},
          "execution_count": 31
        }
      ]
    },
    {
      "cell_type": "markdown",
      "source": [
        "<h3 id=\"exer_type\">Ejercicio: Tipos</h3>\n"
      ],
      "metadata": {
        "id": "tH72Nm2VUrXV"
      }
    },
    {
      "cell_type": "markdown",
      "source": [
        "<p>¿Qué tipo de dato es el resultado de: <code>6 / 2</code>?</p>\n"
      ],
      "metadata": {
        "id": "GL01XrfPUrXV"
      }
    },
    {
      "cell_type": "code",
      "source": [
        "# Escriba tu código a continuación. No olvides presionar Shift+Enter para ejecutar la celda\n",
        "6 / 2"
      ],
      "metadata": {
        "id": "FvrJpg0yUrXV",
        "colab": {
          "base_uri": "https://localhost:8080/"
        },
        "outputId": "0ef4d97e-f4ec-422a-eda1-776211c66700"
      },
      "execution_count": null,
      "outputs": [
        {
          "output_type": "execute_result",
          "data": {
            "text/plain": [
              "3.0"
            ]
          },
          "metadata": {},
          "execution_count": 32
        }
      ]
    },
    {
      "cell_type": "markdown",
      "source": [
        "<p>¿Qué tipo de dato es el resultado de: <code>6 // 2</code>? (Nótese la doble barra <code>//</code>.)</p>\n"
      ],
      "metadata": {
        "id": "OMRPwnizUrXW"
      }
    },
    {
      "cell_type": "code",
      "source": [
        "# Escriba tu código a continuación. No olvides presionar Shift+Enter para ejecutar la celda\n",
        "print(6//2)\n",
        "6/2"
      ],
      "metadata": {
        "id": "2Zvl4i9JUrXW",
        "colab": {
          "base_uri": "https://localhost:8080/"
        },
        "outputId": "8af40c26-4fa4-44d9-f4cc-e8a661fd8e4b"
      },
      "execution_count": null,
      "outputs": [
        {
          "output_type": "stream",
          "name": "stdout",
          "text": [
            "3\n"
          ]
        },
        {
          "output_type": "execute_result",
          "data": {
            "text/plain": [
              "3.0"
            ]
          },
          "metadata": {},
          "execution_count": 35
        }
      ]
    },
    {
      "cell_type": "markdown",
      "source": [
        "<hr>\n"
      ],
      "metadata": {
        "id": "MU2eG1QoUrXW"
      }
    },
    {
      "cell_type": "markdown",
      "source": [
        "<h2 id=\"expressions\">Expresiones y Variables</h2>\n"
      ],
      "metadata": {
        "id": "PTgVL0F8UrXX"
      }
    },
    {
      "cell_type": "markdown",
      "source": [
        "<h3 id=\"exp\">Expresiones</h3>\n"
      ],
      "metadata": {
        "id": "IbYW7LIeUrXX"
      }
    },
    {
      "cell_type": "markdown",
      "source": [
        "<p>Las expresiones en Python pueden incluir operaciones entre tipos compatibles (enteros y flotantes). Por ejemplo, operaciones aritméticas básicas como sumar varios números:</p>\n"
      ],
      "metadata": {
        "id": "iSAzCs9hUrXX"
      }
    },
    {
      "cell_type": "code",
      "source": [
        "# Expresión de operación de suma\n",
        "\n",
        "43 + 60 + 16 + 41"
      ],
      "metadata": {
        "id": "tkvHMMiOUrXX",
        "colab": {
          "base_uri": "https://localhost:8080/"
        },
        "outputId": "769afea7-d024-4981-9280-0e9e395c3869"
      },
      "execution_count": null,
      "outputs": [
        {
          "output_type": "execute_result",
          "data": {
            "text/plain": [
              "160"
            ]
          },
          "metadata": {},
          "execution_count": 36
        }
      ]
    },
    {
      "cell_type": "markdown",
      "source": [
        "<p>Podemos realizar operaciones de resta usando el operador menos. En este caso el resultado es un número negativo:</p>\n"
      ],
      "metadata": {
        "id": "1AGWcrWvUrXX"
      }
    },
    {
      "cell_type": "code",
      "source": [
        "# Expresión de operación de resta\n",
        "\n",
        "50 - 60"
      ],
      "metadata": {
        "id": "yca1NFRDUrXX",
        "colab": {
          "base_uri": "https://localhost:8080/"
        },
        "outputId": "afe81fab-dd65-4896-c55c-e56e5edba5ce"
      },
      "execution_count": null,
      "outputs": [
        {
          "output_type": "execute_result",
          "data": {
            "text/plain": [
              "-10"
            ]
          },
          "metadata": {},
          "execution_count": 37
        }
      ]
    },
    {
      "cell_type": "markdown",
      "source": [
        "<p>Podemos hacer una multiplicación usando un asterisco:</p>\n"
      ],
      "metadata": {
        "id": "eAhoWtCFUrXX"
      }
    },
    {
      "cell_type": "code",
      "source": [
        "# Expresión de operación de multiplicación\n",
        "\n",
        "5 * 5"
      ],
      "metadata": {
        "id": "gmDHgr7hUrXY",
        "colab": {
          "base_uri": "https://localhost:8080/"
        },
        "outputId": "50ac7e6b-925c-4c59-fe9f-1526408318f7"
      },
      "execution_count": null,
      "outputs": [
        {
          "output_type": "execute_result",
          "data": {
            "text/plain": [
              "25"
            ]
          },
          "metadata": {},
          "execution_count": 39
        }
      ]
    },
    {
      "cell_type": "markdown",
      "source": [
        "<p>También podemos hacer unas división con una barra:</p>\n"
      ],
      "metadata": {
        "id": "qCq5ASk_UrXY"
      }
    },
    {
      "cell_type": "code",
      "source": [
        "# Expresión de operación de división\n",
        "\n",
        "25 / 5"
      ],
      "metadata": {
        "id": "1yr58jTjUrXY",
        "colab": {
          "base_uri": "https://localhost:8080/"
        },
        "outputId": "2fc5fac8-b87d-424e-d6c7-92af27c10e4c"
      },
      "execution_count": null,
      "outputs": [
        {
          "output_type": "execute_result",
          "data": {
            "text/plain": [
              "5.0"
            ]
          },
          "metadata": {},
          "execution_count": 40
        }
      ]
    },
    {
      "cell_type": "code",
      "source": [
        "# Expresión de operación de división\n",
        "\n",
        "25 / 6"
      ],
      "metadata": {
        "id": "ZFKXtGC4UrXY",
        "colab": {
          "base_uri": "https://localhost:8080/"
        },
        "outputId": "df691004-4ba4-4548-95f0-9e261800ed62"
      },
      "execution_count": null,
      "outputs": [
        {
          "output_type": "execute_result",
          "data": {
            "text/plain": [
              "4.166666666666667"
            ]
          },
          "metadata": {},
          "execution_count": 41
        }
      ]
    },
    {
      "cell_type": "markdown",
      "source": [
        "<p>Como se ve en el cuestionario anterior, podemos usar la barra doble para la división de enteros, donde el resultado se redondea a la baja al entero más cercano:\n"
      ],
      "metadata": {
        "id": "_p_FqL0kUrXY"
      }
    },
    {
      "cell_type": "code",
      "source": [
        "# Expresión de operación de división de enteros\n",
        "\n",
        "25 // 5"
      ],
      "metadata": {
        "id": "iYaoeKStUrXY",
        "colab": {
          "base_uri": "https://localhost:8080/"
        },
        "outputId": "3d1d58e2-a3d9-498c-ed13-201e032d52e1"
      },
      "execution_count": null,
      "outputs": [
        {
          "output_type": "execute_result",
          "data": {
            "text/plain": [
              "5"
            ]
          },
          "metadata": {},
          "execution_count": 42
        }
      ]
    },
    {
      "cell_type": "code",
      "source": [
        "# Expresión de operación de división de enteros\n",
        "\n",
        "25 // 6"
      ],
      "metadata": {
        "id": "9cGEPhuQUrXZ",
        "colab": {
          "base_uri": "https://localhost:8080/"
        },
        "outputId": "c0122ff7-b0ad-4750-8680-dd6d101e93e7"
      },
      "execution_count": null,
      "outputs": [
        {
          "output_type": "execute_result",
          "data": {
            "text/plain": [
              "4"
            ]
          },
          "metadata": {},
          "execution_count": 43
        }
      ]
    },
    {
      "cell_type": "markdown",
      "source": [
        "<h3 id=\"exer_exp\">Ejercicio: Expresión</h3>\n"
      ],
      "metadata": {
        "id": "EUuarcXXUrXZ"
      }
    },
    {
      "cell_type": "markdown",
      "source": [
        "<p>Escribe una expresión que calcule cuántas horas hay en 160 minutos:\n"
      ],
      "metadata": {
        "id": "HHxIIoASUrXZ"
      }
    },
    {
      "cell_type": "code",
      "source": [
        "# Escriba tu código a continuación. No olvides presionar Shift+Enter para ejecut\n",
        "print (160/60)\n",
        "160//60"
      ],
      "metadata": {
        "id": "AYFJKzW5UrXZ",
        "colab": {
          "base_uri": "https://localhost:8080/"
        },
        "outputId": "8d143885-5e5b-4436-dc48-a352bb15b63f"
      },
      "execution_count": null,
      "outputs": [
        {
          "output_type": "stream",
          "name": "stdout",
          "text": [
            "2.6666666666666665\n"
          ]
        },
        {
          "output_type": "execute_result",
          "data": {
            "text/plain": [
              "2"
            ]
          },
          "metadata": {},
          "execution_count": 45
        }
      ]
    },
    {
      "cell_type": "markdown",
      "source": [
        "<p>Python sigue bien los convenios matemáticos al evaluar expresiones matemáticas. En el siguiente ejemplo, Python suma 30 al resultado de la multiplicación (en total, 120).\n"
      ],
      "metadata": {
        "id": "OxcFHm9pUrXZ"
      }
    },
    {
      "cell_type": "code",
      "source": [
        "# Expresión matemática \n",
        "\n",
        "30 + 2 * 60"
      ],
      "metadata": {
        "id": "Z5ZZshzLUrXa",
        "colab": {
          "base_uri": "https://localhost:8080/"
        },
        "outputId": "b79cc6f8-dfdf-445e-8508-216070bafd8c"
      },
      "execution_count": null,
      "outputs": [
        {
          "output_type": "execute_result",
          "data": {
            "text/plain": [
              "150"
            ]
          },
          "metadata": {},
          "execution_count": 46
        }
      ]
    },
    {
      "cell_type": "markdown",
      "source": [
        "<p>Y al igual que en matemáticas, las expresiones entre paréntesis tienen prioridad. Entonces lo siguiente multiplica 32 por 60.\n"
      ],
      "metadata": {
        "id": "WfJNazOPUrXa"
      }
    },
    {
      "cell_type": "code",
      "source": [
        "# Expresión matemática\n",
        "\n",
        "(30 + 2) * 60"
      ],
      "metadata": {
        "id": "cpVrgGERUrXa",
        "colab": {
          "base_uri": "https://localhost:8080/"
        },
        "outputId": "4ef30072-e281-42b2-f851-9385e25d56f0"
      },
      "execution_count": null,
      "outputs": [
        {
          "output_type": "execute_result",
          "data": {
            "text/plain": [
              "1920"
            ]
          },
          "metadata": {},
          "execution_count": 47
        }
      ]
    },
    {
      "cell_type": "markdown",
      "source": [
        "<h3 id=\"var\">Variables</h3>\n"
      ],
      "metadata": {
        "id": "P-b0e6RWUrXb"
      }
    },
    {
      "cell_type": "markdown",
      "source": [
        "\n",
        "<p>Al igual que con la mayoría de los lenguajes de programación, podemos almacenar valores en <i>variables</i>, para que podamos usarlos más adelante. Por ejemplo:\n"
      ],
      "metadata": {
        "id": "MKurgiPLUrXg"
      }
    },
    {
      "cell_type": "code",
      "source": [
        "# Guarda el valor en una variable\n",
        "\n",
        "x = 43 + 60 + 16 + 41"
      ],
      "metadata": {
        "id": "O1D9JxvxUrXg"
      },
      "execution_count": null,
      "outputs": []
    },
    {
      "cell_type": "markdown",
      "source": [
        "<p>Para ver el valor de <code>x</code> en un Google Collab, simplemente podemos colocarlo en la última línea de la celda:</p>\n"
      ],
      "metadata": {
        "id": "19Ahf_iBUrXg"
      }
    },
    {
      "cell_type": "code",
      "source": [
        "# Imprime el valor de la variable\n",
        "\n",
        "x"
      ],
      "metadata": {
        "id": "F4qRyGgzUrXh",
        "colab": {
          "base_uri": "https://localhost:8080/"
        },
        "outputId": "66a763c0-3ee7-43f5-8365-2139c547482f"
      },
      "execution_count": null,
      "outputs": [
        {
          "output_type": "execute_result",
          "data": {
            "text/plain": [
              "160"
            ]
          },
          "metadata": {},
          "execution_count": 51
        }
      ]
    },
    {
      "cell_type": "markdown",
      "source": [
        "<p>También podemos realizar operaciones en <code>x</code> y guardar el resultado en una nueva variable:</p>\n"
      ],
      "metadata": {
        "id": "9Z84Xo_EUrXh"
      }
    },
    {
      "cell_type": "code",
      "source": [
        "# Usa otra variable para almacenar el resultado de la operación entre la variable y el valor\n",
        "\n",
        "y = x / 60\n",
        "y"
      ],
      "metadata": {
        "id": "P-TggZZNUrXh",
        "colab": {
          "base_uri": "https://localhost:8080/"
        },
        "outputId": "f4ae685e-cf22-402f-bcd7-b30d143a70b3"
      },
      "execution_count": null,
      "outputs": [
        {
          "output_type": "execute_result",
          "data": {
            "text/plain": [
              "2.6666666666666665"
            ]
          },
          "metadata": {},
          "execution_count": 52
        }
      ]
    },
    {
      "cell_type": "markdown",
      "source": [
        "<p>Si guardamos un valor en una variable existente, el nuevo valor reemplazará al valor anterior:</p>\n"
      ],
      "metadata": {
        "id": "NkAgDP8WUrXh"
      }
    },
    {
      "cell_type": "code",
      "source": [
        "# Sobreescribe una variable con un nuevo valor\n",
        "\n",
        "x = x / 60\n",
        "x"
      ],
      "metadata": {
        "id": "C99M-_adUrXh",
        "colab": {
          "base_uri": "https://localhost:8080/"
        },
        "outputId": "52dab233-c5ad-4bc6-aa21-f0f680fa7ed4"
      },
      "execution_count": null,
      "outputs": [
        {
          "output_type": "execute_result",
          "data": {
            "text/plain": [
              "2.0576131687242797e-07"
            ]
          },
          "metadata": {},
          "execution_count": 57
        }
      ]
    },
    {
      "cell_type": "markdown",
      "source": [
        "<p>Es una buena práctica usar nombres de variables significativos, para que tú y otras personas puedan leer el código y comprenderlo más fácilmente:</p>\n"
      ],
      "metadata": {
        "id": "Iou2G0ZZUrXi"
      }
    },
    {
      "cell_type": "code",
      "source": [
        "# Pone un nombre con significado a la variable\n",
        "\n",
        "total_min = 43 + 42 + 57 # La duración total de varios álbumes en minutos\n",
        "total_min"
      ],
      "metadata": {
        "id": "NEOOXVdnUrXi",
        "colab": {
          "base_uri": "https://localhost:8080/"
        },
        "outputId": "b826ae70-4590-4cd6-b2cb-ff731a11e8bd"
      },
      "execution_count": null,
      "outputs": [
        {
          "output_type": "execute_result",
          "data": {
            "text/plain": [
              "142"
            ]
          },
          "metadata": {},
          "execution_count": 58
        }
      ]
    },
    {
      "cell_type": "code",
      "source": [
        "# Pone un nombre con significado a la variable\n",
        "\n",
        "total_hours = total_min / 60 # La duración total de varios álbumes en horas\n",
        "total_hours"
      ],
      "metadata": {
        "id": "Y9G6nvosUrXi",
        "colab": {
          "base_uri": "https://localhost:8080/"
        },
        "outputId": "8aeaf0be-88eb-4cb6-fc09-3ce954fc6dc7"
      },
      "execution_count": null,
      "outputs": [
        {
          "output_type": "execute_result",
          "data": {
            "text/plain": [
              "2.3666666666666667"
            ]
          },
          "metadata": {},
          "execution_count": 59
        }
      ]
    },
    {
      "cell_type": "markdown",
      "source": [
        "<p>En las celdas de arriba, añadimos la duración de tres álbumes en minutos y la almacenamos en <code>total_min</code>. Luego lo dividimos entre 60 para calcular la duración total, <code>total_hours</code>, en horas. También puedes hacerlo todo a la vez en una sola expresión, siempre que uses paréntesis para sumar la duración de los álbumes antes de dividir, como se muestra a continuación.</p>\n"
      ],
      "metadata": {
        "id": "KiApyCMqUrXi"
      }
    },
    {
      "cell_type": "code",
      "source": [
        "# Expresión complicada\n",
        "\n",
        "total_hours = (43 + 42 + 57) / 60  # Horas totales en una sola expresión\n",
        "total_hours"
      ],
      "metadata": {
        "id": "zUisZg2iUrXj",
        "colab": {
          "base_uri": "https://localhost:8080/"
        },
        "outputId": "bad2e034-299e-4982-9aa9-e9d290842a24"
      },
      "execution_count": null,
      "outputs": [
        {
          "output_type": "execute_result",
          "data": {
            "text/plain": [
              "2.3666666666666667"
            ]
          },
          "metadata": {},
          "execution_count": 60
        }
      ]
    },
    {
      "cell_type": "markdown",
      "source": [
        "<p>Si prefieres tener el total de horas como un número entero, puedes reemplazar la división de números flotantes con una división de números enteros. (p.e., <code>//</code>).</p>\n"
      ],
      "metadata": {
        "id": "vopyihUbUrXj"
      }
    },
    {
      "cell_type": "markdown",
      "source": [
        "<h3 id=\"exer_exp_var\">Ejercicio: Expresiones y Variables en Python</h3>\n"
      ],
      "metadata": {
        "id": "DNcnZj3SUrXj"
      }
    },
    {
      "cell_type": "markdown",
      "source": [
        "<p>¿Cuál es el valor de <code>x</code> donde <code>x = 3 + 2 * 2</code>?</p>\n"
      ],
      "metadata": {
        "id": "UVETo-bwUrXk"
      }
    },
    {
      "cell_type": "code",
      "source": [
        "x = 3 + 2 * 2"
      ],
      "metadata": {
        "id": "tcnL7dj_UrXk"
      },
      "execution_count": null,
      "outputs": []
    },
    {
      "cell_type": "code",
      "source": [
        "print (x)"
      ],
      "metadata": {
        "colab": {
          "base_uri": "https://localhost:8080/"
        },
        "id": "JFKvd74h9_JO",
        "outputId": "3bde6221-b919-4708-f15f-ebff20e8e39c"
      },
      "execution_count": null,
      "outputs": [
        {
          "output_type": "stream",
          "name": "stdout",
          "text": [
            "7\n"
          ]
        }
      ]
    },
    {
      "cell_type": "markdown",
      "source": [
        "<p>Cuál es el valor de <code>y</code> donde <code>y = (3 + 2) * 2</code>?</p>\n"
      ],
      "metadata": {
        "id": "LZfb6xH3UrXl"
      }
    },
    {
      "cell_type": "code",
      "source": [
        "y = (3 + 2) * 2\n",
        "print (y)\n"
      ],
      "metadata": {
        "id": "m7XCJBKqUrXl",
        "colab": {
          "base_uri": "https://localhost:8080/"
        },
        "outputId": "815f797d-8874-4ee3-c0db-9ec35a98ebbb"
      },
      "execution_count": null,
      "outputs": [
        {
          "output_type": "stream",
          "name": "stdout",
          "text": [
            "10\n"
          ]
        }
      ]
    },
    {
      "cell_type": "markdown",
      "source": [
        "<p>Cuál es el valor de <code>z</code> donde <code>z = x + y</code>?</p>\n"
      ],
      "metadata": {
        "id": "mJLjedSrUrXl"
      }
    },
    {
      "cell_type": "code",
      "source": [
        "z=x+y"
      ],
      "metadata": {
        "id": "trYiIjco-er0"
      },
      "execution_count": null,
      "outputs": []
    },
    {
      "cell_type": "code",
      "source": [
        "print (z)"
      ],
      "metadata": {
        "colab": {
          "base_uri": "https://localhost:8080/"
        },
        "id": "B0ZPObks-1aR",
        "outputId": "10c1e220-89fd-4330-8fdd-62a66ecfb532"
      },
      "execution_count": null,
      "outputs": [
        {
          "output_type": "stream",
          "name": "stdout",
          "text": [
            "17\n"
          ]
        }
      ]
    },
    {
      "cell_type": "code",
      "source": [
        "# Escriba tu código a continuación. No olvides presionar Shift+Enter para ejecutar la celda\n"
      ],
      "metadata": {
        "id": "fbOPt9QsUrXm"
      },
      "execution_count": null,
      "outputs": []
    }
  ]
}